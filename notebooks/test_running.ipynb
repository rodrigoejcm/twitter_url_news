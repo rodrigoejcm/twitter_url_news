{
 "cells": [
  {
   "cell_type": "code",
   "execution_count": 98,
   "metadata": {},
   "outputs": [],
   "source": [
    "import db_init\n",
    "from pony.orm import * \n",
    "import pandas as pd"
   ]
  },
  {
   "cell_type": "code",
   "execution_count": 99,
   "metadata": {},
   "outputs": [],
   "source": [
    "def show_tables():\n",
    "    query = 'Show tables;'        \n",
    "    print(pd.read_sql(query, db_init.db.get_connection()))\n",
    "    \n",
    "@db_session\n",
    "def count_tweets_time():\n",
    "    query = 'SELECT created_at, count(*) FROM tweet group by created_at ;'        \n",
    "    tweets_time = pd.read_sql(query, db_init.db.get_connection())\n",
    "    return tweets_time\n",
    "   \n",
    "\n",
    "@db_session\n",
    "def show_last_tweets(n):\n",
    "    query = 'SELECT text_full, created_at FROM tweet order by created_at DESC limit '+str(n)+' ;'        \n",
    "    last_posts = pd.read_sql(query, db_init.db.get_connection())\n",
    "    return last_posts\n",
    "\n",
    "@db_session\n",
    "def show_last_replies(n): \n",
    "    query = 'SELECT text_full, created_at FROM tweet_reply order by created_at DESC limit '+str(n)+' ;'        \n",
    "    last_replies = pd.read_sql(query, db_init.db.get_connection())\n",
    "    return last_replies\n",
    "\n",
    "@db_session\n",
    "def count_tweets():\n",
    "    query = 'SELECT count(*) FROM tweet ;'    \n",
    "    count = pd.read_sql(query, db_init.db.get_connection())\n",
    "    return count\n",
    "\n",
    "@db_session\n",
    "def count_replies():\n",
    "    query = 'SELECT count(*) FROM tweet_reply ;'    \n",
    "    count = pd.read_sql(query, db_init.db.get_connection())\n",
    "    return count\n",
    "\n",
    "\n",
    "@db_session\n",
    "def count_tweet_reply_status():\n",
    "    query = 'SELECT fetch_status,count(*) FROM tweet_reply group by fetch_status ;'    \n",
    "    count = pd.read_sql(query, db_init.db.get_connection())\n",
    "    return count\n",
    "    \n",
    "@db_session\n",
    "def count_url_status():\n",
    "    query = 'SELECT fetch_status,count(*) FROM url group by fetch_status ;'    \n",
    "    count = pd.read_sql(query, db_init.db.get_connection())\n",
    "    return count\n",
    "    \n",
    "    \n",
    "    \n",
    "## select status users do fetch group com status e count\n",
    "## select status url do fetch group com status e count\n",
    "## count de noticias\n"
   ]
  },
  {
   "cell_type": "markdown",
   "metadata": {},
   "source": [
    "### Last 5 Tweets"
   ]
  },
  {
   "cell_type": "code",
   "execution_count": 100,
   "metadata": {},
   "outputs": [
    {
     "data": {
      "text/html": [
       "<div>\n",
       "<style scoped>\n",
       "    .dataframe tbody tr th:only-of-type {\n",
       "        vertical-align: middle;\n",
       "    }\n",
       "\n",
       "    .dataframe tbody tr th {\n",
       "        vertical-align: top;\n",
       "    }\n",
       "\n",
       "    .dataframe thead th {\n",
       "        text-align: right;\n",
       "    }\n",
       "</style>\n",
       "<table border=\"1\" class=\"dataframe\">\n",
       "  <thead>\n",
       "    <tr style=\"text-align: right;\">\n",
       "      <th></th>\n",
       "      <th>text_full</th>\n",
       "      <th>created_at</th>\n",
       "    </tr>\n",
       "  </thead>\n",
       "  <tbody>\n",
       "    <tr>\n",
       "      <th>0</th>\n",
       "      <td>https://t.co/A6BaXsccHQ</td>\n",
       "      <td>2018-12-22 18:08:57</td>\n",
       "    </tr>\n",
       "    <tr>\n",
       "      <th>1</th>\n",
       "      <td>London killings hit 10-year high as man stabbe...</td>\n",
       "      <td>2018-12-22 18:07:56</td>\n",
       "    </tr>\n",
       "    <tr>\n",
       "      <th>2</th>\n",
       "      <td>Iran launches war games after US aircraft carr...</td>\n",
       "      <td>2018-12-22 18:07:53</td>\n",
       "    </tr>\n",
       "    <tr>\n",
       "      <th>3</th>\n",
       "      <td>LATEST: 13 hours into partial gov't shutdown. ...</td>\n",
       "      <td>2018-12-22 18:07:19</td>\n",
       "    </tr>\n",
       "    <tr>\n",
       "      <th>4</th>\n",
       "      <td>Dean Turner: Roller-coaster for sterling but t...</td>\n",
       "      <td>2018-12-22 18:07:02</td>\n",
       "    </tr>\n",
       "  </tbody>\n",
       "</table>\n",
       "</div>"
      ],
      "text/plain": [
       "                                           text_full          created_at\n",
       "0                            https://t.co/A6BaXsccHQ 2018-12-22 18:08:57\n",
       "1  London killings hit 10-year high as man stabbe... 2018-12-22 18:07:56\n",
       "2  Iran launches war games after US aircraft carr... 2018-12-22 18:07:53\n",
       "3  LATEST: 13 hours into partial gov't shutdown. ... 2018-12-22 18:07:19\n",
       "4  Dean Turner: Roller-coaster for sterling but t... 2018-12-22 18:07:02"
      ]
     },
     "execution_count": 100,
     "metadata": {},
     "output_type": "execute_result"
    }
   ],
   "source": [
    "show_last_tweets(5)"
   ]
  },
  {
   "cell_type": "markdown",
   "metadata": {},
   "source": [
    "### Last 5 Replies"
   ]
  },
  {
   "cell_type": "code",
   "execution_count": 101,
   "metadata": {},
   "outputs": [
    {
     "data": {
      "text/html": [
       "<div>\n",
       "<style scoped>\n",
       "    .dataframe tbody tr th:only-of-type {\n",
       "        vertical-align: middle;\n",
       "    }\n",
       "\n",
       "    .dataframe tbody tr th {\n",
       "        vertical-align: top;\n",
       "    }\n",
       "\n",
       "    .dataframe thead th {\n",
       "        text-align: right;\n",
       "    }\n",
       "</style>\n",
       "<table border=\"1\" class=\"dataframe\">\n",
       "  <thead>\n",
       "    <tr style=\"text-align: right;\">\n",
       "      <th></th>\n",
       "      <th>text_full</th>\n",
       "      <th>created_at</th>\n",
       "    </tr>\n",
       "  </thead>\n",
       "  <tbody>\n",
       "    <tr>\n",
       "      <th>0</th>\n",
       "      <td>@CNN Baby its cold outside \"rules\"!! https://t...</td>\n",
       "      <td>2018-12-22 18:09:50</td>\n",
       "    </tr>\n",
       "    <tr>\n",
       "      <th>1</th>\n",
       "      <td>@NBCNews https://t.co/O4GDTnmgdf</td>\n",
       "      <td>2018-12-22 18:09:47</td>\n",
       "    </tr>\n",
       "    <tr>\n",
       "      <th>2</th>\n",
       "      <td>@WSJ Syria has always been about a natural gas...</td>\n",
       "      <td>2018-12-22 18:09:47</td>\n",
       "    </tr>\n",
       "    <tr>\n",
       "      <th>3</th>\n",
       "      <td>@SkyNews He’s grotesque towards men, too.</td>\n",
       "      <td>2018-12-22 18:09:47</td>\n",
       "    </tr>\n",
       "    <tr>\n",
       "      <th>4</th>\n",
       "      <td>@USATODAY It feels more like \"until the presid...</td>\n",
       "      <td>2018-12-22 18:09:46</td>\n",
       "    </tr>\n",
       "  </tbody>\n",
       "</table>\n",
       "</div>"
      ],
      "text/plain": [
       "                                           text_full          created_at\n",
       "0  @CNN Baby its cold outside \"rules\"!! https://t... 2018-12-22 18:09:50\n",
       "1                   @NBCNews https://t.co/O4GDTnmgdf 2018-12-22 18:09:47\n",
       "2  @WSJ Syria has always been about a natural gas... 2018-12-22 18:09:47\n",
       "3          @SkyNews He’s grotesque towards men, too. 2018-12-22 18:09:47\n",
       "4  @USATODAY It feels more like \"until the presid... 2018-12-22 18:09:46"
      ]
     },
     "execution_count": 101,
     "metadata": {},
     "output_type": "execute_result"
    }
   ],
   "source": [
    "show_last_replies(5)"
   ]
  },
  {
   "cell_type": "markdown",
   "metadata": {},
   "source": [
    "### Count Tweets and Replies"
   ]
  },
  {
   "cell_type": "code",
   "execution_count": 102,
   "metadata": {},
   "outputs": [
    {
     "data": {
      "text/html": [
       "<div>\n",
       "<style scoped>\n",
       "    .dataframe tbody tr th:only-of-type {\n",
       "        vertical-align: middle;\n",
       "    }\n",
       "\n",
       "    .dataframe tbody tr th {\n",
       "        vertical-align: top;\n",
       "    }\n",
       "\n",
       "    .dataframe thead th {\n",
       "        text-align: right;\n",
       "    }\n",
       "</style>\n",
       "<table border=\"1\" class=\"dataframe\">\n",
       "  <thead>\n",
       "    <tr style=\"text-align: right;\">\n",
       "      <th></th>\n",
       "      <th>count(*)</th>\n",
       "    </tr>\n",
       "  </thead>\n",
       "  <tbody>\n",
       "    <tr>\n",
       "      <th>0</th>\n",
       "      <td>2452</td>\n",
       "    </tr>\n",
       "  </tbody>\n",
       "</table>\n",
       "</div>"
      ],
      "text/plain": [
       "   count(*)\n",
       "0      2452"
      ]
     },
     "execution_count": 102,
     "metadata": {},
     "output_type": "execute_result"
    }
   ],
   "source": [
    "count_tweets()"
   ]
  },
  {
   "cell_type": "code",
   "execution_count": 103,
   "metadata": {},
   "outputs": [
    {
     "data": {
      "text/html": [
       "<div>\n",
       "<style scoped>\n",
       "    .dataframe tbody tr th:only-of-type {\n",
       "        vertical-align: middle;\n",
       "    }\n",
       "\n",
       "    .dataframe tbody tr th {\n",
       "        vertical-align: top;\n",
       "    }\n",
       "\n",
       "    .dataframe thead th {\n",
       "        text-align: right;\n",
       "    }\n",
       "</style>\n",
       "<table border=\"1\" class=\"dataframe\">\n",
       "  <thead>\n",
       "    <tr style=\"text-align: right;\">\n",
       "      <th></th>\n",
       "      <th>count(*)</th>\n",
       "    </tr>\n",
       "  </thead>\n",
       "  <tbody>\n",
       "    <tr>\n",
       "      <th>0</th>\n",
       "      <td>5403</td>\n",
       "    </tr>\n",
       "  </tbody>\n",
       "</table>\n",
       "</div>"
      ],
      "text/plain": [
       "   count(*)\n",
       "0      5403"
      ]
     },
     "execution_count": 103,
     "metadata": {},
     "output_type": "execute_result"
    }
   ],
   "source": [
    "count_replies()"
   ]
  },
  {
   "cell_type": "markdown",
   "metadata": {},
   "source": [
    "### User Timeline Fetch Status"
   ]
  },
  {
   "cell_type": "code",
   "execution_count": 104,
   "metadata": {},
   "outputs": [
    {
     "data": {
      "text/html": [
       "<div>\n",
       "<style scoped>\n",
       "    .dataframe tbody tr th:only-of-type {\n",
       "        vertical-align: middle;\n",
       "    }\n",
       "\n",
       "    .dataframe tbody tr th {\n",
       "        vertical-align: top;\n",
       "    }\n",
       "\n",
       "    .dataframe thead th {\n",
       "        text-align: right;\n",
       "    }\n",
       "</style>\n",
       "<table border=\"1\" class=\"dataframe\">\n",
       "  <thead>\n",
       "    <tr style=\"text-align: right;\">\n",
       "      <th></th>\n",
       "      <th>fetch_status</th>\n",
       "      <th>count(*)</th>\n",
       "    </tr>\n",
       "  </thead>\n",
       "  <tbody>\n",
       "    <tr>\n",
       "      <th>0</th>\n",
       "      <td>ERRO - NO TWEETS</td>\n",
       "      <td>1</td>\n",
       "    </tr>\n",
       "    <tr>\n",
       "      <th>1</th>\n",
       "      <td>OK</td>\n",
       "      <td>1382</td>\n",
       "    </tr>\n",
       "    <tr>\n",
       "      <th>2</th>\n",
       "      <td>To Fetch</td>\n",
       "      <td>4020</td>\n",
       "    </tr>\n",
       "  </tbody>\n",
       "</table>\n",
       "</div>"
      ],
      "text/plain": [
       "       fetch_status  count(*)\n",
       "0  ERRO - NO TWEETS         1\n",
       "1                OK      1382\n",
       "2          To Fetch      4020"
      ]
     },
     "execution_count": 104,
     "metadata": {},
     "output_type": "execute_result"
    }
   ],
   "source": [
    "count_tweet_reply_status()"
   ]
  },
  {
   "cell_type": "markdown",
   "metadata": {},
   "source": [
    "### URL Fetch Status"
   ]
  },
  {
   "cell_type": "code",
   "execution_count": 105,
   "metadata": {},
   "outputs": [
    {
     "data": {
      "text/html": [
       "<div>\n",
       "<style scoped>\n",
       "    .dataframe tbody tr th:only-of-type {\n",
       "        vertical-align: middle;\n",
       "    }\n",
       "\n",
       "    .dataframe tbody tr th {\n",
       "        vertical-align: top;\n",
       "    }\n",
       "\n",
       "    .dataframe thead th {\n",
       "        text-align: right;\n",
       "    }\n",
       "</style>\n",
       "<table border=\"1\" class=\"dataframe\">\n",
       "  <thead>\n",
       "    <tr style=\"text-align: right;\">\n",
       "      <th></th>\n",
       "      <th>fetch_status</th>\n",
       "      <th>count(*)</th>\n",
       "    </tr>\n",
       "  </thead>\n",
       "  <tbody>\n",
       "    <tr>\n",
       "      <th>0</th>\n",
       "      <td>ERROR</td>\n",
       "      <td>1</td>\n",
       "    </tr>\n",
       "    <tr>\n",
       "      <th>1</th>\n",
       "      <td>OK</td>\n",
       "      <td>278</td>\n",
       "    </tr>\n",
       "  </tbody>\n",
       "</table>\n",
       "</div>"
      ],
      "text/plain": [
       "  fetch_status  count(*)\n",
       "0        ERROR         1\n",
       "1           OK       278"
      ]
     },
     "execution_count": 105,
     "metadata": {},
     "output_type": "execute_result"
    }
   ],
   "source": [
    "count_url_status()"
   ]
  }
 ],
 "metadata": {
  "kernelspec": {
   "display_name": "Python 3",
   "language": "python",
   "name": "python3"
  },
  "language_info": {
   "codemirror_mode": {
    "name": "ipython",
    "version": 3
   },
   "file_extension": ".py",
   "mimetype": "text/x-python",
   "name": "python",
   "nbconvert_exporter": "python",
   "pygments_lexer": "ipython3",
   "version": "3.5.2"
  }
 },
 "nbformat": 4,
 "nbformat_minor": 1
}
